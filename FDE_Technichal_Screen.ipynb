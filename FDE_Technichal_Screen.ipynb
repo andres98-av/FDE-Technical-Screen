{
  "cells": [
    {
      "cell_type": "code",
      "execution_count": 3,
      "id": "77f4109d",
      "metadata": {
        "id": "77f4109d"
      },
      "outputs": [],
      "source": [
        "# Sort Function\n",
        "def sort(width, height, length, mass):\n",
        "\n",
        "    # Define Boolean features for categorization\n",
        "    is_bulky = False\n",
        "    is_heavy = False\n",
        "\n",
        "    # Define Volume\n",
        "    volume = width * height * length\n",
        "\n",
        "    # Bulky Condition\n",
        "    if volume >= 1000000 or width >= 150 or height >= 150 or length >= 150 :\n",
        "        is_bulky = True\n",
        "\n",
        "    # Heavy Condition\n",
        "    if mass >= 20:\n",
        "        is_heavy = True\n",
        "\n",
        "    # Final Categorization\n",
        "    if is_bulky and is_heavy:\n",
        "        category = 'REJECTED'\n",
        "    elif is_bulky or is_heavy:\n",
        "        category = 'SPECIAL'\n",
        "    elif not is_bulky  and not is_heavy:\n",
        "        category = 'STANDARD'\n",
        "    return category\n"
      ]
    },
    {
      "cell_type": "code",
      "execution_count": 4,
      "id": "435d656a",
      "metadata": {
        "colab": {
          "base_uri": "https://localhost:8080/"
        },
        "id": "435d656a",
        "outputId": "9fc6bdf9-bd48-4965-fcc9-b6182ec60e14"
      },
      "outputs": [
        {
          "output_type": "stream",
          "name": "stdout",
          "text": [
            "STANDARD\n",
            "SPECIAL\n",
            "SPECIAL\n",
            "REJECTED\n",
            "SPECIAL\n",
            "SPECIAL\n"
          ]
        }
      ],
      "source": [
        "#Tests\n",
        "\n",
        "# 1 – Standard (not bulky, not heavy)\n",
        "print(sort(99, 100, 100, 10))\n",
        "# → STANDARD\n",
        "\n",
        "# 2 – Bulky by dimension (width ≥ 150)\n",
        "print(sort(200, 100, 50, 10))\n",
        "# → SPECIAL\n",
        "\n",
        "# 3 – Heavy (mass ≥ 20)\n",
        "print(sort(100, 100, 99, 25))\n",
        "# → SPECIAL\n",
        "\n",
        "# 4 – Bulky and Heavy (rejected)\n",
        "print(sort(2200, 200, 200, 25))\n",
        "# → REJECTED\n",
        "\n",
        "# 5 – Bulky by volume (exactly 1,000,000)\n",
        "print(sort(100, 100, 100, 10))\n",
        "# → SPECIAL\n",
        "\n",
        "# 6 – Heavy but very small package\n",
        "print(sort(1, 1, 1, 20))\n",
        "# → SPECIAL"
      ]
    },
    {
      "cell_type": "code",
      "source": [],
      "metadata": {
        "id": "PIgHoY1R41rc"
      },
      "id": "PIgHoY1R41rc",
      "execution_count": null,
      "outputs": []
    }
  ],
  "metadata": {
    "kernelspec": {
      "display_name": "Python 3",
      "language": "python",
      "name": "python3"
    },
    "language_info": {
      "codemirror_mode": {
        "name": "ipython",
        "version": 3
      },
      "file_extension": ".py",
      "mimetype": "text/x-python",
      "name": "python",
      "nbconvert_exporter": "python",
      "pygments_lexer": "ipython3",
      "version": "3.9.6"
    },
    "colab": {
      "provenance": []
    }
  },
  "nbformat": 4,
  "nbformat_minor": 5
}